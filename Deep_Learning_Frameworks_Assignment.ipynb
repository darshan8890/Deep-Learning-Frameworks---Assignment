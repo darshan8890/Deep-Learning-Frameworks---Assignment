{
  "nbformat": 4,
  "nbformat_minor": 0,
  "metadata": {
    "colab": {
      "provenance": []
    },
    "kernelspec": {
      "name": "python3",
      "display_name": "Python 3"
    },
    "language_info": {
      "name": "python"
    }
  },
  "cells": [
    {
      "cell_type": "markdown",
      "source": [
        "# **Deep Learning Frameworks - Assignment**"
      ],
      "metadata": {
        "id": "GSTRJ3b85IlD"
      }
    },
    {
      "cell_type": "markdown",
      "source": [
        "1. What is TensorFlow 2.0, and how is it different from TensorFlow 1.x?\n",
        "- TensorFlow 2.0 is a major release of the TensorFlow machine learning framework, introduced by Google in late 2019. It brought significant changes and improvements over TensorFlow 1.x, with a strong focus on simplicity, ease of use, and integration with modern machine learning workflows.\n",
        "- TensorFlow 2.0 is a major upgrade from TensorFlow 1.x, offering a more streamlined, intuitive, and user-friendly experience for machine learning development. One of the biggest differences is the shift from the static computation graph model used in TensorFlow 1.x—which required defining graphs and running them in sessions—to eager execution in TensorFlow 2.0. Eager execution allows operations to run immediately as they are called, making debugging and development much more interactive and Pythonic."
      ],
      "metadata": {
        "id": "zsm3CWTQ5Mkd"
      }
    },
    {
      "cell_type": "markdown",
      "source": [
        "2. How do you install TensorFlow 2.0 ?\n",
        "- pip install tensorflow==2.0.0\n"
      ],
      "metadata": {
        "id": "xR1GA_Qh5n23"
      }
    },
    {
      "cell_type": "markdown",
      "source": [
        "3. What is the primary function of the tf.function in TensorFlow 2.0 ?\n",
        "- In TensorFlow 2.0, the primary function of tf.function is to convert a Python function into a high-performance TensorFlow graph. This allows the function to run more efficiently than in eager execution mode, which is the default in TensorFlow 2.0. By using tf.function, developers get the benefits of graph execution—such as better performance and easier deployment—while still writing code in a familiar Python style."
      ],
      "metadata": {
        "id": "_d7-vIAt5yQJ"
      }
    },
    {
      "cell_type": "markdown",
      "source": [
        "Q4. What is the purpose of the Model class in TensorFlow 2.0 ?\n",
        "- In TensorFlow 2.0, the purpose of the Model class (from tf.keras.Model) is to provide a high-level interface for building and training machine learning models. It allows developers to define custom architectures by subclassing the class and implementing the __init__ and call methods.\n",
        "- The Model class also includes built-in functionality for training (fit), evaluation (evaluate), and prediction (predict), making it easier to manage the full model lifecycle. It is central to building both simple and complex models in a clean, modular way."
      ],
      "metadata": {
        "id": "5zU45WK364-m"
      }
    },
    {
      "cell_type": "markdown",
      "source": [
        "Q5. How do you create a neural network using TensorFlow 2.0 ?\n",
        "- In TensorFlow 2.0, you create a neural network using the built-in Keras API (tf.keras), which provides a simple and intuitive way to define, compile, and train models. A common approach is to use the Sequential class to stack layers one after another. For example, you can define a model with an input layer, hidden layers using Dense (fully connected) layers with activation functions like ReLU, and an output layer with a softmax activation for classification. After defining the architecture, you compile the model by specifying an optimizer (e.g., Adam), a loss function (e.g., sparse categorical crossentropy), and evaluation metrics (e.g., accuracy). Finally, you train the model using the fit() method with your training data, and later evaluate or use it for predictions.\n",
        "\n"
      ],
      "metadata": {
        "id": "YKLzhiXz7EbF"
      }
    },
    {
      "cell_type": "markdown",
      "source": [
        "Q6. What is the importance of Tensor Space in TensorFlow ?\n",
        "- In TensorFlow, the concept of tensor space is fundamental because tensors are the primary data structures used to represent all kinds of data — from scalars and vectors to multi-dimensional arrays. Tensor space refers to the multi-dimensional structure and the mathematical space where these tensors exist and operate. Understanding tensor space is important because it defines how data is organized, manipulated, and transformed within TensorFlow, enabling efficient computation for machine learning models.\n",
        "- It allows TensorFlow to perform complex operations like matrix multiplications, convolutions, and other linear algebra computations that are essential for building and training neural networks. Essentially, tensor space provides the framework that makes TensorFlow's high-performance numerical computations possible."
      ],
      "metadata": {
        "id": "07ikAutc7Tnm"
      }
    },
    {
      "cell_type": "markdown",
      "source": [
        "Q7. How can TensorBoard be integrated with TensorFlow 2.0 ?\n",
        "- In TensorFlow 2.0, TensorBoard can be easily integrated by using the tf.summary API to log training metrics, model graphs, and other useful information during model training. Typically, you start by creating a log directory to store the logs, then create a tf.summary.create_file_writer to write summaries. During training, you use this writer to record metrics like loss and accuracy\n",
        "- When you run your training script, TensorBoard reads these logs, allowing you to visualize the training progress, model structure, and more. Additionally, if you use model.fit() with the TensorBoard callback (tf.keras.callbacks.TensorBoard), it automatically logs metrics and other details without extra code. This seamless integration makes it easy to monitor and debug your TensorFlow 2.0 models in real-time."
      ],
      "metadata": {
        "id": "gGUPAz3g74NO"
      }
    },
    {
      "cell_type": "markdown",
      "source": [
        "Q8. What is the purpose of TensorFlow Playground?\n",
        "- The purpose of TensorFlow Playground is to provide an interactive, web-based visualization tool that helps users understand how neural networks learn. It allows you to experiment with different neural network architectures, activation functions, learning rates, and datasets—all visually and in real time—without writing any code.\n",
        "- By tweaking these parameters, users can see how the model’s decision boundaries change, which makes it a great educational resource for beginners to grasp core machine learning concepts intuitively. Essentially, TensorFlow Playground makes the inner workings of neural networks more accessible and easier to explore."
      ],
      "metadata": {
        "id": "fpl52f6R8FZo"
      }
    },
    {
      "cell_type": "markdown",
      "source": [
        "Q9. What is Netron, and how is it useful for deep learning models ?\n",
        "- Netron is a popular open-source tool for visualizing deep learning and machine learning models. It provides an interactive, graphical interface to explore the architecture of models saved in various formats like TensorFlow (.pb), Keras (.h5), ONNX, PyTorch, and many others.\n",
        "\n",
        "- Netron is useful because it lets developers and researchers easily inspect the structure of complex models—showing layers, connections, shapes, and parameters—without diving into code. This helps with understanding, debugging, and sharing models, making it easier to verify architectures, spot errors, and communicate designs to others. Overall, Netron simplifies model analysis and documentation throughout the deep learning workflow."
      ],
      "metadata": {
        "id": "LVZPiYUG8PrH"
      }
    },
    {
      "cell_type": "markdown",
      "source": [
        "Q10. What is the difference between TensorFlow and PyTorch ?\n",
        "- TensorFlow = TensorFlow is a comprehensive open-source machine learning framework developed by Google. It supports both eager execution and graph-based computation, making it highly scalable and suitable for production environments. TensorFlow offers a rich ecosystem with tools like TensorBoard for visualization, TensorFlow Serving for model deployment, and TensorFlow Lite for mobile applications. Its high-level Keras API simplifies building and training neural networks, and it emphasizes cross-platform support, allowing models to run on CPUs, GPUs, TPUs, and mobile devices.\n",
        "- PyTorch = PyTorch is an open-source machine learning library developed by Facebook that emphasizes dynamic computation graphs and ease of use, making it very popular for research and prototyping. PyTorch’s eager execution by default allows for intuitive coding and debugging with native Python control flow. It offers a flexible and pythonic interface, which appeals especially to researchers and developers experimenting with novel architectures. While it initially lagged behind TensorFlow in deployment tools, PyTorch has rapidly improved its ecosystem with projects like TorchServe and ONNX support for model interoperability."
      ],
      "metadata": {
        "id": "n-CWeiVz8Xg3"
      }
    },
    {
      "cell_type": "markdown",
      "source": [
        "Q11. How do you install PyTorch ?\n",
        "- pip install torch torchvision torchaudio\n"
      ],
      "metadata": {
        "id": "SFsVh5em8m1e"
      }
    },
    {
      "cell_type": "markdown",
      "source": [
        "Q12. What is the basic structure of a PyTorch neural network ?\n",
        "-\n",
        "\n",
        "```\n",
        "import torch.nn as nn\n",
        "import torch.nn.functional as F\n",
        "class MyNet(nn.Module):\n",
        "    def __init__(self):\n",
        "        super().__init__()\n",
        "        self.fc1 = nn.Linear(784, 128)\n",
        "        self.fc2 = nn.Linear(128, 10)\n",
        "    def forward(self, x):\n",
        "        x = F.relu(self.fc1(x))\n",
        "        x = self.fc2(x)\n",
        "        return x\n",
        "```\n",
        "\n"
      ],
      "metadata": {
        "id": "yBVRtBiS-Sok"
      }
    },
    {
      "cell_type": "markdown",
      "source": [
        "Q13. What is the significance of tensors in PyTorch ?\n",
        "- Tensors in PyTorch are like smart multi-dimensional arrays that hold data. They are important because they store inputs, outputs, and model parameters. Tensors can run fast on GPUs, making calculations quicker. They also help PyTorch automatically calculate gradients needed for training neural networks. So, tensors are the basic and powerful building blocks in PyTorch."
      ],
      "metadata": {
        "id": "ms7cfn8UBcwI"
      }
    },
    {
      "cell_type": "markdown",
      "source": [
        "Q14. What is the difference between torch.Tensor and torch.cuda.Tensor in PyTorch ?\n",
        "- torch.Tensor = torch.Tensor is a tensor that lives in the computer’s main memory (CPU). It performs all calculations using the CPU, which is fine for smaller tasks or when a GPU is not available.\n",
        "- torch.cuda.Tensor = torch.cuda.Tensor is a tensor stored on the GPU’s memory. It allows PyTorch to perform operations much faster by using the power of the graphics card, which is especially helpful for large models and big data."
      ],
      "metadata": {
        "id": "hnIsngWqBwaC"
      }
    },
    {
      "cell_type": "markdown",
      "source": [
        "Q15. What is the purpose of the torch.optim module in PyTorch ?\n",
        "- The purpose of the torch.optim module in PyTorch is to provide different optimization algorithms that help update the model’s parameters during training. These optimizers (like SGD, Adam, etc.) adjust the weights based on the calculated gradients to minimize the loss and improve the model’s performance. In short, torch.optim makes training neural networks easier and more efficient."
      ],
      "metadata": {
        "id": "2Q8Ppma2CIhW"
      }
    },
    {
      "cell_type": "markdown",
      "source": [
        "Q16. What are some common activation functions used in neural networks?\n",
        "- Some common activation functions used in neural networks are:\n",
        "     1. ReLU (Rectified Linear Unit): Outputs zero if input is negative, otherwise outputs the input.\n",
        "     2. Sigmoid: Squashes input to a value between 0 and 1, useful for probabilities.\n",
        "     3. Tanh: Squashes input to a value between -1 and 1, centered around zero.\n",
        "     4. Leaky ReLU: Like ReLU but allows a small, non-zero output for negative inputs.\n",
        "     5. Softmax: Converts a vector of values into probabilities that sum to 1, used for multi-class classification."
      ],
      "metadata": {
        "id": "fI_f-HYdCX9f"
      }
    },
    {
      "cell_type": "markdown",
      "source": [
        "Q17.  What is the difference between torch.nn.Module and torch.nn.Sequential in PyTorch ?\n",
        "- torch.nn.Module = torch.nn.Module is the base class to build any custom neural network. You define your own layers and write the forward pass manually. It’s flexible and lets you create complex models.\n",
        "- torch.nn.Sequential = torch.nn.Sequential is a shortcut for building simple networks by stacking layers one after another in order. You don’t write the forward method yourself — it runs the input through all layers automatically."
      ],
      "metadata": {
        "id": "KPxI9DwdCzi4"
      }
    },
    {
      "cell_type": "markdown",
      "source": [
        "Q18. How can you monitor training progress in TensorFlow 2.0 ?\n",
        "- Using the fit() method’s built-in progress output, which shows loss and metrics after each epoch.\n",
        "- Adding callbacks like tf.keras.callbacks.TensorBoard to visualize training in TensorBoard, a web-based dashboard.\n",
        "- Using other callbacks such as ModelCheckpoint to save models and EarlyStopping to stop training when performance stops improving."
      ],
      "metadata": {
        "id": "03cuDfaDDHeA"
      }
    },
    {
      "cell_type": "markdown",
      "source": [
        "Q19. How does the Keras API fit into TensorFlow 2.0 ?\n",
        "- In TensorFlow 2.0, Keras is the official high-level API for building and training neural networks. It makes creating models simple and intuitive by providing easy-to-use classes and functions like tf.keras.Model and tf.keras.layers. Keras integrates tightly with TensorFlow’s core, so you get the power of TensorFlow combined with Keras’s simplicity for defining, training, and evaluating models all in one place."
      ],
      "metadata": {
        "id": "75GLT-HNDUEH"
      }
    },
    {
      "cell_type": "markdown",
      "source": [
        "Q20. What is an example of a deep learning project that can be implemented using TensorFlow 2.0 ?\n",
        "- A good example of a deep learning project using TensorFlow 2.0 is image classification with convolutional neural networks (CNNs).\n",
        "\n",
        "- For instance, you can build a model to classify images from the CIFAR-10 dataset into categories like cats, dogs, cars, and airplanes. TensorFlow 2.0 makes it easy to load the dataset, define a CNN with tf.keras, train the model, and evaluate its accuracy.\n",
        "\n",
        "- This project covers key deep learning concepts like convolution layers, activation functions, and training loops, making it perfect for learning and real applications."
      ],
      "metadata": {
        "id": "KTMEj2C0Db2w"
      }
    },
    {
      "cell_type": "markdown",
      "source": [
        "Q21. What is the main advantage of using pre-trained models in TensorFlow and PyTorch?\n",
        "- Pre-trained models have learned useful features from vast amounts of data, so they can often perform well even on new but related tasks with minimal additional training. This is called transfer learning.\n",
        "- Using pre-trained models also helps improve performance, especially when you have a smaller dataset. The model already understands basic patterns, so it needs less data to fine-tune for your specific problem."
      ],
      "metadata": {
        "id": "mNDGsZIXDn12"
      }
    },
    {
      "cell_type": "markdown",
      "source": [
        "# **Practical**"
      ],
      "metadata": {
        "id": "qmjx8GO3EKsi"
      }
    },
    {
      "cell_type": "code",
      "source": [
        "# Q1. How do you install and verify that TensorFlow 2.0 was installed successfully ?\n",
        "\n",
        "pip install tensorflow==2.0.0\n"
      ],
      "metadata": {
        "colab": {
          "base_uri": "https://localhost:8080/",
          "height": 106
        },
        "collapsed": true,
        "id": "scRhgt6dESTw",
        "outputId": "17cdccfd-10e9-4110-a02a-e7158fe377a5"
      },
      "execution_count": 1,
      "outputs": [
        {
          "output_type": "error",
          "ename": "SyntaxError",
          "evalue": "invalid syntax (<ipython-input-1-5471ca9987b6>, line 3)",
          "traceback": [
            "\u001b[0;36m  File \u001b[0;32m\"<ipython-input-1-5471ca9987b6>\"\u001b[0;36m, line \u001b[0;32m3\u001b[0m\n\u001b[0;31m    pip install tensorflow==2.0.0\u001b[0m\n\u001b[0m        ^\u001b[0m\n\u001b[0;31mSyntaxError\u001b[0m\u001b[0;31m:\u001b[0m invalid syntax\n"
          ]
        }
      ]
    },
    {
      "cell_type": "code",
      "source": [
        "# Q2. How can you define a simple function in TensorFlow 2.0 to perform addition?\n",
        "\n",
        "import tensorflow as tf\n",
        "\n",
        "@tf.function\n",
        "def add_numbers(x, y):\n",
        "    return x + y\n",
        "\n",
        "result = add_numbers(tf.constant(3), tf.constant(5))\n",
        "print(result.numpy())"
      ],
      "metadata": {
        "colab": {
          "base_uri": "https://localhost:8080/"
        },
        "id": "AUATDKOtEakc",
        "outputId": "bf5f5623-0614-4fc1-b1fb-1a9f8894c01f"
      },
      "execution_count": 2,
      "outputs": [
        {
          "output_type": "stream",
          "name": "stdout",
          "text": [
            "8\n"
          ]
        }
      ]
    },
    {
      "cell_type": "code",
      "source": [
        "# Q3. How can you create a simple neural network in TensorFlow 2.0 with one hidden layer ?\n",
        "\n",
        "import tensorflow as tf\n",
        "from tensorflow.keras import layers, models\n",
        "\n",
        "input_size = 784\n",
        "num_classes = 10\n",
        "\n",
        "model = models.Sequential([\n",
        "    layers.Input(shape=(input_size,)),\n",
        "    layers.Dense(128, activation='relu'),\n",
        "    layers.Dense(num_classes, activation='softmax')\n",
        "])\n",
        "\n",
        "model.compile(optimizer='adam',\n",
        "              loss='sparse_categorical_crossentropy',\n",
        "              metrics=['accuracy'])\n",
        "model.summary()\n"
      ],
      "metadata": {
        "colab": {
          "base_uri": "https://localhost:8080/",
          "height": 193
        },
        "id": "E9tJETtrEmqF",
        "outputId": "2adc0dd0-621a-469b-9799-c5d0c3748a34"
      },
      "execution_count": 7,
      "outputs": [
        {
          "output_type": "display_data",
          "data": {
            "text/plain": [
              "\u001b[1mModel: \"sequential_3\"\u001b[0m\n"
            ],
            "text/html": [
              "<pre style=\"white-space:pre;overflow-x:auto;line-height:normal;font-family:Menlo,'DejaVu Sans Mono',consolas,'Courier New',monospace\"><span style=\"font-weight: bold\">Model: \"sequential_3\"</span>\n",
              "</pre>\n"
            ]
          },
          "metadata": {}
        },
        {
          "output_type": "display_data",
          "data": {
            "text/plain": [
              "┏━━━━━━━━━━━━━━━━━━━━━━━━━━━━━━━━━┳━━━━━━━━━━━━━━━━━━━━━━━━┳━━━━━━━━━━━━━━━┓\n",
              "┃\u001b[1m \u001b[0m\u001b[1mLayer (type)                   \u001b[0m\u001b[1m \u001b[0m┃\u001b[1m \u001b[0m\u001b[1mOutput Shape          \u001b[0m\u001b[1m \u001b[0m┃\u001b[1m \u001b[0m\u001b[1m      Param #\u001b[0m\u001b[1m \u001b[0m┃\n",
              "┡━━━━━━━━━━━━━━━━━━━━━━━━━━━━━━━━━╇━━━━━━━━━━━━━━━━━━━━━━━━╇━━━━━━━━━━━━━━━┩\n",
              "│ dense_6 (\u001b[38;5;33mDense\u001b[0m)                 │ (\u001b[38;5;45mNone\u001b[0m, \u001b[38;5;34m128\u001b[0m)            │       \u001b[38;5;34m100,480\u001b[0m │\n",
              "├─────────────────────────────────┼────────────────────────┼───────────────┤\n",
              "│ dense_7 (\u001b[38;5;33mDense\u001b[0m)                 │ (\u001b[38;5;45mNone\u001b[0m, \u001b[38;5;34m10\u001b[0m)             │         \u001b[38;5;34m1,290\u001b[0m │\n",
              "└─────────────────────────────────┴────────────────────────┴───────────────┘\n"
            ],
            "text/html": [
              "<pre style=\"white-space:pre;overflow-x:auto;line-height:normal;font-family:Menlo,'DejaVu Sans Mono',consolas,'Courier New',monospace\">┏━━━━━━━━━━━━━━━━━━━━━━━━━━━━━━━━━┳━━━━━━━━━━━━━━━━━━━━━━━━┳━━━━━━━━━━━━━━━┓\n",
              "┃<span style=\"font-weight: bold\"> Layer (type)                    </span>┃<span style=\"font-weight: bold\"> Output Shape           </span>┃<span style=\"font-weight: bold\">       Param # </span>┃\n",
              "┡━━━━━━━━━━━━━━━━━━━━━━━━━━━━━━━━━╇━━━━━━━━━━━━━━━━━━━━━━━━╇━━━━━━━━━━━━━━━┩\n",
              "│ dense_6 (<span style=\"color: #0087ff; text-decoration-color: #0087ff\">Dense</span>)                 │ (<span style=\"color: #00d7ff; text-decoration-color: #00d7ff\">None</span>, <span style=\"color: #00af00; text-decoration-color: #00af00\">128</span>)            │       <span style=\"color: #00af00; text-decoration-color: #00af00\">100,480</span> │\n",
              "├─────────────────────────────────┼────────────────────────┼───────────────┤\n",
              "│ dense_7 (<span style=\"color: #0087ff; text-decoration-color: #0087ff\">Dense</span>)                 │ (<span style=\"color: #00d7ff; text-decoration-color: #00d7ff\">None</span>, <span style=\"color: #00af00; text-decoration-color: #00af00\">10</span>)             │         <span style=\"color: #00af00; text-decoration-color: #00af00\">1,290</span> │\n",
              "└─────────────────────────────────┴────────────────────────┴───────────────┘\n",
              "</pre>\n"
            ]
          },
          "metadata": {}
        },
        {
          "output_type": "display_data",
          "data": {
            "text/plain": [
              "\u001b[1m Total params: \u001b[0m\u001b[38;5;34m101,770\u001b[0m (397.54 KB)\n"
            ],
            "text/html": [
              "<pre style=\"white-space:pre;overflow-x:auto;line-height:normal;font-family:Menlo,'DejaVu Sans Mono',consolas,'Courier New',monospace\"><span style=\"font-weight: bold\"> Total params: </span><span style=\"color: #00af00; text-decoration-color: #00af00\">101,770</span> (397.54 KB)\n",
              "</pre>\n"
            ]
          },
          "metadata": {}
        },
        {
          "output_type": "display_data",
          "data": {
            "text/plain": [
              "\u001b[1m Trainable params: \u001b[0m\u001b[38;5;34m101,770\u001b[0m (397.54 KB)\n"
            ],
            "text/html": [
              "<pre style=\"white-space:pre;overflow-x:auto;line-height:normal;font-family:Menlo,'DejaVu Sans Mono',consolas,'Courier New',monospace\"><span style=\"font-weight: bold\"> Trainable params: </span><span style=\"color: #00af00; text-decoration-color: #00af00\">101,770</span> (397.54 KB)\n",
              "</pre>\n"
            ]
          },
          "metadata": {}
        },
        {
          "output_type": "display_data",
          "data": {
            "text/plain": [
              "\u001b[1m Non-trainable params: \u001b[0m\u001b[38;5;34m0\u001b[0m (0.00 B)\n"
            ],
            "text/html": [
              "<pre style=\"white-space:pre;overflow-x:auto;line-height:normal;font-family:Menlo,'DejaVu Sans Mono',consolas,'Courier New',monospace\"><span style=\"font-weight: bold\"> Non-trainable params: </span><span style=\"color: #00af00; text-decoration-color: #00af00\">0</span> (0.00 B)\n",
              "</pre>\n"
            ]
          },
          "metadata": {}
        }
      ]
    },
    {
      "cell_type": "code",
      "source": [
        "# Q4. How can you visualize the training progress using TensorFlow and Matplotlib ?\n",
        "\n",
        "\n",
        "import tensorflow as tf\n",
        "from tensorflow.keras import layers, models\n",
        "import numpy as np\n",
        "import matplotlib.pyplot as plt\n",
        "\n",
        "input_size = 20\n",
        "num_classes = 3\n",
        "num_samples = 1000\n",
        "\n",
        "x_train = np.random.random((num_samples, input_size))\n",
        "x_val = np.random.random((200, input_size))\n",
        "\n",
        "y_train = np.random.randint(num_classes, size=(num_samples,))\n",
        "y_val = np.random.randint(num_classes, size=(200,))\n",
        "\n",
        "model = models.Sequential([\n",
        "    layers.Input(shape=(input_size,)),\n",
        "    layers.Dense(64, activation='relu'),\n",
        "    layers.Dense(num_classes, activation='softmax')\n",
        "])\n",
        "\n",
        "model.compile(optimizer='adam',\n",
        "              loss='sparse_categorical_crossentropy',\n",
        "              metrics=['accuracy'])\n",
        "\n",
        "history = model.fit(x_train, y_train, epochs=10, validation_data=(x_val, y_val))\n",
        "\n",
        "plt.plot(history.history['loss'], label='Training Loss')\n",
        "plt.plot(history.history['val_loss'], label='Validation Loss')\n",
        "plt.xlabel('Epoch')\n",
        "plt.ylabel('Loss')\n",
        "plt.legend()\n",
        "plt.show()\n",
        "\n",
        "plt.plot(history.history['accuracy'], label='Training Accuracy')\n",
        "plt.plot(history.history['val_accuracy'], label='Validation Accuracy')\n",
        "plt.xlabel('Epoch')\n",
        "plt.ylabel('Accuracy')\n",
        "plt.legend()\n",
        "plt.show()\n"
      ],
      "metadata": {
        "colab": {
          "base_uri": "https://localhost:8080/",
          "height": 1000
        },
        "id": "vGDjAhEUEyzI",
        "outputId": "f45a4a95-dc2f-4c92-e6d5-7dee45ee6104"
      },
      "execution_count": 9,
      "outputs": [
        {
          "output_type": "stream",
          "name": "stdout",
          "text": [
            "Epoch 1/10\n",
            "\u001b[1m32/32\u001b[0m \u001b[32m━━━━━━━━━━━━━━━━━━━━\u001b[0m\u001b[37m\u001b[0m \u001b[1m2s\u001b[0m 10ms/step - accuracy: 0.3546 - loss: 1.1069 - val_accuracy: 0.2900 - val_loss: 1.1136\n",
            "Epoch 2/10\n",
            "\u001b[1m32/32\u001b[0m \u001b[32m━━━━━━━━━━━━━━━━━━━━\u001b[0m\u001b[37m\u001b[0m \u001b[1m0s\u001b[0m 4ms/step - accuracy: 0.3562 - loss: 1.1034 - val_accuracy: 0.3250 - val_loss: 1.1099\n",
            "Epoch 3/10\n",
            "\u001b[1m32/32\u001b[0m \u001b[32m━━━━━━━━━━━━━━━━━━━━\u001b[0m\u001b[37m\u001b[0m \u001b[1m0s\u001b[0m 6ms/step - accuracy: 0.3380 - loss: 1.1021 - val_accuracy: 0.3300 - val_loss: 1.1086\n",
            "Epoch 4/10\n",
            "\u001b[1m32/32\u001b[0m \u001b[32m━━━━━━━━━━━━━━━━━━━━\u001b[0m\u001b[37m\u001b[0m \u001b[1m0s\u001b[0m 5ms/step - accuracy: 0.3646 - loss: 1.0957 - val_accuracy: 0.3250 - val_loss: 1.1110\n",
            "Epoch 5/10\n",
            "\u001b[1m32/32\u001b[0m \u001b[32m━━━━━━━━━━━━━━━━━━━━\u001b[0m\u001b[37m\u001b[0m \u001b[1m0s\u001b[0m 4ms/step - accuracy: 0.3932 - loss: 1.0843 - val_accuracy: 0.3250 - val_loss: 1.1103\n",
            "Epoch 6/10\n",
            "\u001b[1m32/32\u001b[0m \u001b[32m━━━━━━━━━━━━━━━━━━━━\u001b[0m\u001b[37m\u001b[0m \u001b[1m0s\u001b[0m 4ms/step - accuracy: 0.3709 - loss: 1.0948 - val_accuracy: 0.3100 - val_loss: 1.1104\n",
            "Epoch 7/10\n",
            "\u001b[1m32/32\u001b[0m \u001b[32m━━━━━━━━━━━━━━━━━━━━\u001b[0m\u001b[37m\u001b[0m \u001b[1m0s\u001b[0m 4ms/step - accuracy: 0.3760 - loss: 1.0909 - val_accuracy: 0.2800 - val_loss: 1.1121\n",
            "Epoch 8/10\n",
            "\u001b[1m32/32\u001b[0m \u001b[32m━━━━━━━━━━━━━━━━━━━━\u001b[0m\u001b[37m\u001b[0m \u001b[1m0s\u001b[0m 4ms/step - accuracy: 0.3995 - loss: 1.0818 - val_accuracy: 0.2850 - val_loss: 1.1161\n",
            "Epoch 9/10\n",
            "\u001b[1m32/32\u001b[0m \u001b[32m━━━━━━━━━━━━━━━━━━━━\u001b[0m\u001b[37m\u001b[0m \u001b[1m0s\u001b[0m 4ms/step - accuracy: 0.4396 - loss: 1.0760 - val_accuracy: 0.2950 - val_loss: 1.1142\n",
            "Epoch 10/10\n",
            "\u001b[1m32/32\u001b[0m \u001b[32m━━━━━━━━━━━━━━━━━━━━\u001b[0m\u001b[37m\u001b[0m \u001b[1m0s\u001b[0m 5ms/step - accuracy: 0.3958 - loss: 1.0809 - val_accuracy: 0.3100 - val_loss: 1.1194\n"
          ]
        },
        {
          "output_type": "display_data",
          "data": {
            "text/plain": [
              "<Figure size 640x480 with 1 Axes>"
            ],
            "image/png": "[encoded data removed]"
          },
          "metadata": {}
        },
        {
          "output_type": "display_data",
          "data": {
            "text/plain": [
              "<Figure size 640x480 with 1 Axes>"
            ],
            "image/png": "[encoded data removed]"
          },
          "metadata": {}
        }
      ]
    },
    {
      "cell_type": "code",
      "source": [
        "# Q5.  How do you install PyTorch and verify the PyTorch installation ?\n",
        "\n",
        "# pip install torch torchvision torchaudio\n",
        "\n",
        "import torch\n",
        "print(torch.__version__)\n",
        "print(torch.cuda.is_available())\n"
      ],
      "metadata": {
        "colab": {
          "base_uri": "https://localhost:8080/"
        },
        "id": "6k0R2UvKFY6N",
        "outputId": "a7246af7-923a-4417-f291-b6eea9e122b9"
      },
      "execution_count": 10,
      "outputs": [
        {
          "output_type": "stream",
          "name": "stdout",
          "text": [
            "2.6.0+cu124\n",
            "False\n"
          ]
        }
      ]
    },
    {
      "cell_type": "code",
      "source": [
        "# Q6. How do you create a simple neural network in PyTorch ?\n",
        "\n",
        "import torch\n",
        "import torch.nn as nn\n",
        "import torch.nn.functional as F\n",
        "\n",
        "class SimpleNet(nn.Module):\n",
        "    def __init__(self):\n",
        "        super(SimpleNet, self).__init__()\n",
        "        self.fc1 = nn.Linear(784, 128)  # Input layer (e.g., 784 features) to hidden layer\n",
        "        self.fc2 = nn.Linear(128, 10)   # Hidden layer to output layer (10 classes)\n",
        "\n",
        "    def forward(self, x):\n",
        "        x = F.relu(self.fc1(x))         # Apply ReLU activation\n",
        "        x = self.fc2(x)                 # Output layer (logits)\n",
        "        return x\n",
        "\n",
        "# Create the model instance\n",
        "model = SimpleNet()\n",
        "print(model)\n"
      ],
      "metadata": {
        "colab": {
          "base_uri": "https://localhost:8080/"
        },
        "id": "tYqyyyVeFzzZ",
        "outputId": "866f3949-8f5d-4723-90af-9dc97c4ea8ce"
      },
      "execution_count": 14,
      "outputs": [
        {
          "output_type": "stream",
          "name": "stdout",
          "text": [
            "SimpleNet(\n",
            "  (fc1): Linear(in_features=784, out_features=128, bias=True)\n",
            "  (fc2): Linear(in_features=128, out_features=10, bias=True)\n",
            ")\n"
          ]
        }
      ]
    },
    {
      "cell_type": "code",
      "source": [
        "# Q7. How do you define a loss function and optimizer in PyTorch ?\n",
        "\n",
        "# Define Loss Function\n",
        "import torch.nn as nn\n",
        "loss_fn = nn.CrossEntropyLoss()\n",
        "\n",
        "# Define Optimizer\n",
        "import torch.optim as optim\n",
        "optimizer = optim.Adam(model.parameters(), lr=0.001)\n"
      ],
      "metadata": {
        "id": "1jdAnmSgF6eE"
      },
      "execution_count": 15,
      "outputs": []
    },
    {
      "cell_type": "code",
      "source": [
        "# Q8. How do you implement a custom loss function in PyTorch ?\n",
        "\n",
        "import torch\n",
        "import torch.nn as nn\n",
        "\n",
        "class CustomLoss(nn.Module):\n",
        "    def __init__(self):\n",
        "        super(CustomLoss, self).__init__()\n",
        "\n",
        "    def forward(self, output, target):\n",
        "        return torch.mean((output - target) ** 2)"
      ],
      "metadata": {
        "id": "eEc6mdw3GUPA"
      },
      "execution_count": 16,
      "outputs": []
    },
    {
      "cell_type": "code",
      "source": [
        "# Q9. How do you save and load a TensorFlow model?\n",
        "\n",
        "model.save('my_model')\n",
        "\n",
        "import tensorflow as tf\n",
        "loaded_model = tf.keras.models.load_model('my_model')\n"
      ],
      "metadata": {
        "colab": {
          "base_uri": "https://localhost:8080/",
          "height": 332
        },
        "collapsed": true,
        "id": "24Lkj9L_HWZI",
        "outputId": "2ac09c2a-82e6-445c-9b2a-1a7de38810f7"
      },
      "execution_count": 17,
      "outputs": [
        {
          "output_type": "error",
          "ename": "AttributeError",
          "evalue": "'SimpleNet' object has no attribute 'save'",
          "traceback": [
            "\u001b[0;31m---------------------------------------------------------------------------\u001b[0m",
            "\u001b[0;31mAttributeError\u001b[0m                            Traceback (most recent call last)",
            "\u001b[0;32m<ipython-input-17-864b6e17fdde>\u001b[0m in \u001b[0;36m<cell line: 0>\u001b[0;34m()\u001b[0m\n\u001b[1;32m      1\u001b[0m \u001b[0;31m# Q9. How do you save and load a TensorFlow model?\u001b[0m\u001b[0;34m\u001b[0m\u001b[0;34m\u001b[0m\u001b[0m\n\u001b[1;32m      2\u001b[0m \u001b[0;34m\u001b[0m\u001b[0m\n\u001b[0;32m----> 3\u001b[0;31m \u001b[0mmodel\u001b[0m\u001b[0;34m.\u001b[0m\u001b[0msave\u001b[0m\u001b[0;34m(\u001b[0m\u001b[0;34m'my_model'\u001b[0m\u001b[0;34m)\u001b[0m\u001b[0;34m\u001b[0m\u001b[0;34m\u001b[0m\u001b[0m\n\u001b[0m\u001b[1;32m      4\u001b[0m \u001b[0;34m\u001b[0m\u001b[0m\n\u001b[1;32m      5\u001b[0m \u001b[0;32mimport\u001b[0m \u001b[0mtensorflow\u001b[0m \u001b[0;32mas\u001b[0m \u001b[0mtf\u001b[0m\u001b[0;34m\u001b[0m\u001b[0;34m\u001b[0m\u001b[0m\n",
            "\u001b[0;32m/usr/local/lib/python3.11/dist-packages/torch/nn/modules/module.py\u001b[0m in \u001b[0;36m__getattr__\u001b[0;34m(self, name)\u001b[0m\n\u001b[1;32m   1926\u001b[0m             \u001b[0;32mif\u001b[0m \u001b[0mname\u001b[0m \u001b[0;32min\u001b[0m \u001b[0mmodules\u001b[0m\u001b[0;34m:\u001b[0m\u001b[0;34m\u001b[0m\u001b[0;34m\u001b[0m\u001b[0m\n\u001b[1;32m   1927\u001b[0m                 \u001b[0;32mreturn\u001b[0m \u001b[0mmodules\u001b[0m\u001b[0;34m[\u001b[0m\u001b[0mname\u001b[0m\u001b[0;34m]\u001b[0m\u001b[0;34m\u001b[0m\u001b[0;34m\u001b[0m\u001b[0m\n\u001b[0;32m-> 1928\u001b[0;31m         raise AttributeError(\n\u001b[0m\u001b[1;32m   1929\u001b[0m             \u001b[0;34mf\"'{type(self).__name__}' object has no attribute '{name}'\"\u001b[0m\u001b[0;34m\u001b[0m\u001b[0;34m\u001b[0m\u001b[0m\n\u001b[1;32m   1930\u001b[0m         )\n",
            "\u001b[0;31mAttributeError\u001b[0m: 'SimpleNet' object has no attribute 'save'"
          ]
        }
      ]
    }
  ]
}